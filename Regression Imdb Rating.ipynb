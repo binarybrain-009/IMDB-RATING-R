{
 "cells": [
  {
   "cell_type": "code",
   "execution_count": 1,
   "metadata": {},
   "outputs": [
    {
     "ename": "ERROR",
     "evalue": "Error in parse(text = x, srcfile = src): <text>:1:1: unexpected '>'\n1: >\n    ^\n",
     "output_type": "error",
     "traceback": [
      "Error in parse(text = x, srcfile = src): <text>:1:1: unexpected '>'\n1: >\n    ^\nTraceback:\n"
     ]
    }
   ],
   "source": [
    "> library(\"ggplot2\")\n"
   ]
  },
  {
   "cell_type": "code",
   "execution_count": 2,
   "metadata": {},
   "outputs": [
    {
     "ename": "ERROR",
     "evalue": "Error in parse(text = x, srcfile = src): <text>:1:1: unexpected '>'\n1: >\n    ^\n",
     "output_type": "error",
     "traceback": [
      "Error in parse(text = x, srcfile = src): <text>:1:1: unexpected '>'\n1: >\n    ^\nTraceback:\n"
     ]
    }
   ],
   "source": [
    "> library(\"ggplot2\")"
   ]
  },
  {
   "cell_type": "code",
   "execution_count": 3,
   "metadata": {},
   "outputs": [
    {
     "ename": "ERROR",
     "evalue": "Error in library(\"ggplot2\"): there is no package called 'ggplot2'\n",
     "output_type": "error",
     "traceback": [
      "Error in library(\"ggplot2\"): there is no package called 'ggplot2'\nTraceback:\n",
      "1. library(\"ggplot2\")"
     ]
    }
   ],
   "source": [
    "library(\"ggplot2\")\n"
   ]
  },
  {
   "cell_type": "code",
   "execution_count": 9,
   "metadata": {},
   "outputs": [],
   "source": [
    "library(ggplot2)\n",
    "library(dplyr)\n",
    "\n",
    "library(caret)      # machine learning and pre processing functions\n",
    "library(gridExtra)  # combo plot for ggplot functions\n"
   ]
  },
  {
   "cell_type": "code",
   "execution_count": 14,
   "metadata": {},
   "outputs": [],
   "source": [
    "load(\"/Users/cghdhv/Downloads/movies.Rdata\")\n",
    "set.seed(123)\n"
   ]
  },
  {
   "cell_type": "markdown",
   "metadata": {},
   "source": [
    "Exploratory data analysis\n",
    "First step before actually making the first viewings and processings over the data,\n",
    "we split our dataset in training and test data. Most of the algorithms that learn with data with the objetive to predict new incomes \n",
    "try to minimize the error they make with the first step (learning).\n",
    "Because of this, if we evaluate our data over the error the algorithm(regression in this case) makes with the training data,\n",
    "we would be making an over optimistic assumption.\n",
    "So the objetive of the test set is to give our algorithm new data and thus make a more real error estimate of our modelling \n",
    "process.\n",
    "\n"
   ]
  },
  {
   "cell_type": "code",
   "execution_count": 17,
   "metadata": {},
   "outputs": [],
   "source": [
    "# sample testing data\n",
    "testingIndex <- sample(nrow(movies),floor(nrow(movies) * 0.2),replace = FALSE)\n",
    "# get test and training data\n",
    "testing  <- movies[testingIndex,]\n",
    "training <- movies[-testingIndex,]\n",
    "\n",
    "# response variables of interest:\n",
    "# imdb_rating, critics_rating, critics_score, audience_rating, audience_score\n",
    "# remove response cols, title, studio, actors and url's columns\n",
    "responseCols <- c(13,15,16,17,18)\n",
    "noInterestVars <- c(1,6,25:32)\n",
    "\n",
    "trainingPredictors <- training[,-c(responseCols,noInterestVars)]\n",
    "trainingResponse   <- training[, responseCols]\n",
    "\n",
    "testingPredictors <- testing[,-c(responseCols,noInterestVars)]\n",
    "testingResponse   <- testing[, responseCols]\n"
   ]
  },
  {
   "cell_type": "markdown",
   "metadata": {},
   "source": [
    "Data Imputation\n",
    "But, before starting with our analytical thinking, we must evaluate and act against missing values as linear models are no robust against it. We can deal with NA’s with a few approaches and I evaluated 3 of them:\n",
    "\n",
    "Row removal: Remove the lines that have at least one NA\n",
    "\n",
    "Column Removal: Remove columns if they have more NA’s than data\n",
    "\n",
    "Imputation: Use an algorithmic approach to estimate the missing values. We can make this approach using a few techniques, such as median imputation, knn or bagged tree imputation. I have tested the three proposed methods here. In order not to make this report too long, I evaluated and tested these approaches with this project final model and the Median Imputation was the best one, i.e. the smallest RMSE.\n"
   ]
  },
  {
   "cell_type": "code",
   "execution_count": 18,
   "metadata": {},
   "outputs": [
    {
     "data": {
      "text/html": [
       "0.0556621880998081"
      ],
      "text/latex": [
       "0.0556621880998081"
      ],
      "text/markdown": [
       "0.0556621880998081"
      ],
      "text/plain": [
       "[1] 0.05566219"
      ]
     },
     "metadata": {},
     "output_type": "display_data"
    }
   ],
   "source": [
    "# model 1: remove rows with NA?\n",
    "anyNA <- function(row){ any(is.na(row))}          # function to return which row has at least a NA\n",
    "\n",
    "rowsWithNA <- apply(training, 1, anyNA)           # apply the function to each row\n",
    "\n",
    "rowsWithNAIndexTRUE <- which(rowsWithNA == TRUE)  # get which row return TRUE\n",
    "length(rowsWithNAIndexTRUE)/nrow(training)        # few rows with NA's, might be a good way of removing NA\n"
   ]
  },
  {
   "cell_type": "code",
   "execution_count": 19,
   "metadata": {},
   "outputs": [
    {
     "data": {
      "text/html": [
       "<dl class=dl-horizontal>\n",
       "\t<dt>runtime</dt>\n",
       "\t\t<dd>0.00191938579654511</dd>\n",
       "\t<dt>dvd_rel_year</dt>\n",
       "\t\t<dd>0.0153550863723608</dd>\n",
       "\t<dt>dvd_rel_month</dt>\n",
       "\t\t<dd>0.0153550863723608</dd>\n",
       "\t<dt>dvd_rel_day</dt>\n",
       "\t\t<dd>0.0153550863723608</dd>\n",
       "</dl>\n"
      ],
      "text/latex": [
       "\\begin{description*}\n",
       "\\item[runtime] 0.00191938579654511\n",
       "\\item[dvd\\textbackslash{}\\_rel\\textbackslash{}\\_year] 0.0153550863723608\n",
       "\\item[dvd\\textbackslash{}\\_rel\\textbackslash{}\\_month] 0.0153550863723608\n",
       "\\item[dvd\\textbackslash{}\\_rel\\textbackslash{}\\_day] 0.0153550863723608\n",
       "\\end{description*}\n"
      ],
      "text/markdown": [
       "runtime\n",
       ":   0.00191938579654511dvd_rel_year\n",
       ":   0.0153550863723608dvd_rel_month\n",
       ":   0.0153550863723608dvd_rel_day\n",
       ":   0.0153550863723608\n",
       "\n"
      ],
      "text/plain": [
       "      runtime  dvd_rel_year dvd_rel_month   dvd_rel_day \n",
       "  0.001919386   0.015355086   0.015355086   0.015355086 "
      ]
     },
     "metadata": {},
     "output_type": "display_data"
    }
   ],
   "source": [
    "# In this report we will NOT use this model, as I have already compared it with the Median imputation model\n",
    "naRMTrainingData <- training[-rowsWithNAIndexTRUE,] # create new model with the NA rows removed\n",
    "############################################################################################################\n",
    "# Model 2: remove columns that have a lot of NA's?\n",
    "\n",
    "# function to return which row has at least a NA\n",
    "colsWithNA <- apply(trainingPredictors, 2, function(col) { any(is.na(col))}) #\n",
    "\n",
    "colsWithNAIndexTRUE <- which(colsWithNA == TRUE) # get cols index that have at least one NA\n",
    "\n",
    "# low percentage of NA's. No need to exclude columns, take other actions to imput then\n",
    "apply(trainingPredictors[,colsWithNAIndexTRUE], 2, function(cols) {sum(is.na(cols))/length(cols)})\n"
   ]
  },
  {
   "cell_type": "code",
   "execution_count": 20,
   "metadata": {},
   "outputs": [],
   "source": [
    "# model 3, 4 and 5: IMPUTATIONS\n",
    "#kNNImput <- preProcess(training, method='knnImpute')\n",
    "#bagImput <- preProcess(training, method='bagImpute', na.remove = TRUE)\n",
    "medianImput <- preProcess(training, method='medianImpute')\n",
    "\n",
    "#knnImputTrainingData <- predict(kNNImput, training)\n",
    "#bagImputTrainingData <- predict(bagImput, training)\n",
    "medianImputTrainingData <- predict(medianImput, training)\n",
    "# Already tested these models with the final model, and the best model was the Median Imputation\n"
   ]
  },
  {
   "cell_type": "code",
   "execution_count": 21,
   "metadata": {},
   "outputs": [
    {
     "data": {
      "text/plain": [
       "\n",
       "Call:\n",
       "lm(formula = imdb_rating ~ ., data = medianImputTrainingPredictors)\n",
       "\n",
       "Residuals:\n",
       "    Min      1Q  Median      3Q     Max \n",
       "-3.8163 -0.4056  0.0620  0.5602  2.1768 \n",
       "\n",
       "Coefficients:\n",
       "                                 Estimate Std. Error t value Pr(>|t|)    \n",
       "(Intercept)                     5.294e+01  1.810e+01   2.925 0.003608 ** \n",
       "title_typeFeature Film         -8.687e-01  3.295e-01  -2.636 0.008650 ** \n",
       "title_typeTV Movie             -8.232e-01  5.421e-01  -1.519 0.129506    \n",
       "genreAnimation                 -3.952e-01  3.837e-01  -1.030 0.303568    \n",
       "genreArt House & International  7.212e-01  2.675e-01   2.697 0.007246 ** \n",
       "genreComedy                    -1.063e-01  1.614e-01  -0.659 0.510205    \n",
       "genreDocumentary                8.754e-01  3.598e-01   2.433 0.015337 *  \n",
       "genreDrama                      5.824e-01  1.386e-01   4.203 3.13e-05 ***\n",
       "genreHorror                    -1.492e-01  2.581e-01  -0.578 0.563470    \n",
       "genreMusical & Performing Arts  1.186e+00  3.286e-01   3.610 0.000338 ***\n",
       "genreMystery & Suspense         2.861e-01  1.842e-01   1.553 0.121141    \n",
       "genreOther                      3.435e-01  2.903e-01   1.183 0.237305    \n",
       "genreScience Fiction & Fantasy -9.026e-01  4.010e-01  -2.251 0.024818 *  \n",
       "runtime                         3.264e-03  2.330e-03   1.401 0.161982    \n",
       "mpaa_ratingNC-17               -4.106e-01  6.568e-01  -0.625 0.532131    \n",
       "mpaa_ratingPG                  -4.691e-01  2.629e-01  -1.784 0.074968 .  \n",
       "mpaa_ratingPG-13               -7.272e-01  2.739e-01  -2.655 0.008190 ** \n",
       "mpaa_ratingR                   -4.801e-01  2.640e-01  -1.819 0.069589 .  \n",
       "mpaa_ratingUnrated             -1.465e-01  3.038e-01  -0.482 0.629783    \n",
       "thtr_rel_year                  -7.894e-03  5.181e-03  -1.524 0.128215    \n",
       "thtr_rel_month                  6.835e-03  1.115e-02   0.613 0.540157    \n",
       "thtr_rel_day                    1.632e-03  4.385e-03   0.372 0.709883    \n",
       "dvd_rel_year                   -1.520e-02  1.142e-02  -1.331 0.183776    \n",
       "dvd_rel_month                   1.192e-02  1.148e-02   1.038 0.299596    \n",
       "dvd_rel_day                    -2.242e-03  4.326e-03  -0.518 0.604480    \n",
       "imdb_num_votes                  3.613e-06  4.383e-07   8.242 1.57e-15 ***\n",
       "best_pic_nomyes                 4.984e-01  2.348e-01   2.122 0.034334 *  \n",
       "best_pic_winyes                -7.065e-01  4.380e-01  -1.613 0.107367    \n",
       "best_actor_winyes               3.746e-02  1.129e-01   0.332 0.740219    \n",
       "best_actress_winyes            -1.676e-03  1.237e-01  -0.014 0.989196    \n",
       "best_dir_winyes                 2.747e-01  1.620e-01   1.695 0.090707 .  \n",
       "top200_boxyes                  -6.621e-02  2.901e-01  -0.228 0.819576    \n",
       "---\n",
       "Signif. codes:  0 '***' 0.001 '**' 0.01 '*' 0.05 '.' 0.1 ' ' 1\n",
       "\n",
       "Residual standard error: 0.8443 on 489 degrees of freedom\n",
       "Multiple R-squared:  0.4199,\tAdjusted R-squared:  0.3831 \n",
       "F-statistic: 11.42 on 31 and 489 DF,  p-value: < 2.2e-16\n"
      ]
     },
     "metadata": {},
     "output_type": "display_data"
    }
   ],
   "source": [
    "medianImputTrainingPredictors <- medianImputTrainingData[,-c(responseCols,noInterestVars)]\n",
    "medianImputTrainingPredictors <- cbind(medianImputTrainingPredictors,medianImputTrainingData[,responseCols[1]])\n",
    "\n",
    "### first raw model with what we got\n",
    "model.raw <- lm(imdb_rating ~ .,\n",
    "                data = medianImputTrainingPredictors)\n",
    "summary(model.raw)\n"
   ]
  },
  {
   "cell_type": "markdown",
   "metadata": {},
   "source": [
    "With this first attempt, we see that our model does a relative poor fit, with a R2 score of just 42%, and a adjusted R2 of 38%.\n",
    "\n",
    "Near Zero Variance - NZV and Correlated Columns Verification\n",
    "Non informative predictors and Multicollinearity are a few problems that can make or model worse or unstable (not relevant predictors, therefore, not generalizable for new data and predictions).\n",
    "\n",
    "NZV variables are columns that have little variation among its values, i.e., there is one predominant value, making the values almost constant between the data examples, providing little discriminative power. There are discussions if we should remove the nzv predictors, considering that we are throwing out information but, as we are trying to get the most informative model to our data, we would stick with this approach to remove them. However, as it is going to be shown next,, maybe these rows with the rare column values could mean something special.\n",
    "\n",
    "As for multicollinearity, we will analyze among the predictors if we can find a big correlation between then. Correlated predictors are known to destabilize the model parameters, increase the prediction standard error and worse the fit to new data. Let see how our data is organized. We will use the Caret package to extract the nzv variables and the cor command to extract the correlation matrix:\n",
    "\n"
   ]
  },
  {
   "cell_type": "code",
   "execution_count": 23,
   "metadata": {},
   "outputs": [
    {
     "data": {
      "text/html": [
       "<table>\n",
       "<thead><tr><th></th><th scope=col>freqRatio</th><th scope=col>percentUnique</th><th scope=col>zeroVar</th><th scope=col>nzv</th></tr></thead>\n",
       "<tbody>\n",
       "\t<tr><th scope=row>best_pic_nom</th><td>25.05000 </td><td>0.3838772</td><td>FALSE    </td><td>TRUE     </td></tr>\n",
       "\t<tr><th scope=row>best_pic_win</th><td>85.83333 </td><td>0.3838772</td><td>FALSE    </td><td>TRUE     </td></tr>\n",
       "\t<tr><th scope=row>top200_box</th><td>51.10000 </td><td>0.3838772</td><td>FALSE    </td><td>TRUE     </td></tr>\n",
       "</tbody>\n",
       "</table>\n"
      ],
      "text/latex": [
       "\\begin{tabular}{r|llll}\n",
       "  & freqRatio & percentUnique & zeroVar & nzv\\\\\n",
       "\\hline\n",
       "\tbest\\_pic\\_nom & 25.05000  & 0.3838772 & FALSE     & TRUE     \\\\\n",
       "\tbest\\_pic\\_win & 85.83333  & 0.3838772 & FALSE     & TRUE     \\\\\n",
       "\ttop200\\_box & 51.10000  & 0.3838772 & FALSE     & TRUE     \\\\\n",
       "\\end{tabular}\n"
      ],
      "text/markdown": [
       "\n",
       "| <!--/--> | freqRatio | percentUnique | zeroVar | nzv |\n",
       "|---|---|---|---|---|\n",
       "| best_pic_nom | 25.05000  | 0.3838772 | FALSE     | TRUE      |\n",
       "| best_pic_win | 85.83333  | 0.3838772 | FALSE     | TRUE      |\n",
       "| top200_box | 51.10000  | 0.3838772 | FALSE     | TRUE      |\n",
       "\n"
      ],
      "text/plain": [
       "             freqRatio percentUnique zeroVar nzv \n",
       "best_pic_nom 25.05000  0.3838772     FALSE   TRUE\n",
       "best_pic_win 85.83333  0.3838772     FALSE   TRUE\n",
       "top200_box   51.10000  0.3838772     FALSE   TRUE"
      ]
     },
     "metadata": {},
     "output_type": "display_data"
    }
   ],
   "source": [
    "nzv <- nearZeroVar(training, saveMetrics= TRUE) \n",
    "nzvIndices <- which(nzv$nzv == TRUE)\n",
    "nzv[nzvIndices, ]\n"
   ]
  },
  {
   "cell_type": "markdown",
   "metadata": {},
   "source": [
    "As we can see {best_pic_nom, best_pic_win, top200_box} were selected as no discriminative variables. Probably, if a movie is nominated to or wins an oscar or it is in the Top 200 Box Office, it has a bigger chance to receive higher scores. In the plots below, we analyzed the nzv variables distributions, viewing whether a movie is premiated or not and its possible correspondent scores, such as imdb_rating, critics_rating and critics_score. As we have seen, there is an imbalance in the nzv columns, but they might provide a great discrimination power over the imdb_rating, our response variable of interest in this report. Therefore, we will not remove the nzv variables.\n",
    "\n"
   ]
  },
  {
   "cell_type": "code",
   "execution_count": 24,
   "metadata": {},
   "outputs": [
    {
     "name": "stdout",
     "output_type": "stream",
     "text": [
      "Distribution of: best_pic_nom\n",
      " no yes \n",
      "629  22 \n",
      "\n",
      "Distribution of: best_pic_win\n",
      " no yes \n",
      "644   7 \n"
     ]
    },
    {
     "data": {
      "image/png": "[encoded data removed]",
      "text/plain": [
       "plot without title"
      ]
     },
     "metadata": {},
     "output_type": "display_data"
    },
    {
     "name": "stdout",
     "output_type": "stream",
     "text": [
      "\n",
      "Distribution of: top200_box\n",
      " no yes \n",
      "636  15 \n"
     ]
    },
    {
     "data": {
      "image/png": "[encoded data removed]",
      "text/plain": [
       "plot without title"
      ]
     },
     "metadata": {},
     "output_type": "display_data"
    },
    {
     "name": "stdout",
     "output_type": "stream",
     "text": [
      "\n"
     ]
    },
    {
     "data": {
      "image/png": "[encoded data removed]",
      "text/plain": [
       "plot without title"
      ]
     },
     "metadata": {},
     "output_type": "display_data"
    }
   ],
   "source": [
    "for(i in 1:3){\n",
    "  cat('Distribution of:', names(training)[nzvIndices[i]])\n",
    "  print(table(movies[,nzvIndices[i]]))\n",
    "  plot1 <- ggplot(training, aes_string(x = names(training)[nzvIndices[i]], y = names(training)[responseCols[1]], colour = names(training)[responseCols[1]])) + geom_point()\n",
    "  plot2 <- ggplot(training, aes_string(x = names(training)[nzvIndices[i]], fill = names(training)[responseCols[2]])) + geom_bar(position = 'fill')\n",
    "  plot3 <- ggplot(training, aes_string(x = names(training)[nzvIndices[i]], y = names(training)[responseCols[3]], colour = names(training)[responseCols[3]])) + geom_point()\n",
    "  grid.arrange(plot1, plot2, plot3, ncol=3)\n",
    "  cat('\\n')\n",
    "}\n"
   ]
  },
  {
   "cell_type": "markdown",
   "metadata": {},
   "source": [
    "Next, we evaluate the columns correlation. As we perform the traditional Pearson Numerical Correlation, first we removed the factor variables. For a mixed correlation status, between numerical and factor variables, we could have used the Heterogeneous Correlation Matrix or the Point-Biserial Correlation, but as these are more advanced techniques, we will not consider it in our analysis. Inspecting our correlation matrix, we see that the most correlated columns are between the response columns, not of interest in our research. Therefore, in spite of our predictor variables, we will not remove them to decrease multicollinearity.\n",
    "\n"
   ]
  },
  {
   "cell_type": "code",
   "execution_count": 25,
   "metadata": {},
   "outputs": [
    {
     "data": {
      "text/html": [
       "<table>\n",
       "<thead><tr><th></th><th scope=col>runtime</th><th scope=col>thtr_rel_year</th><th scope=col>thtr_rel_month</th><th scope=col>thtr_rel_day</th><th scope=col>dvd_rel_year</th><th scope=col>dvd_rel_month</th><th scope=col>dvd_rel_day</th><th scope=col>imdb_rating</th><th scope=col>imdb_num_votes</th><th scope=col>critics_score</th><th scope=col>audience_score</th></tr></thead>\n",
       "<tbody>\n",
       "\t<tr><th scope=row>runtime</th><td> 1.00000000 </td><td>-0.120204389</td><td> 0.22362935 </td><td> 0.014051800</td><td>-0.085817165</td><td>-0.034356922</td><td> 0.014415410</td><td> 0.238138830</td><td> 0.33088145 </td><td> 0.149462454</td><td> 0.133528859</td></tr>\n",
       "\t<tr><th scope=row>thtr_rel_year</th><td>-0.12020439 </td><td> 1.000000000</td><td>-0.01227360 </td><td> 0.101436328</td><td> 0.660003094</td><td> 0.039313687</td><td>-0.008207814</td><td>-0.024295900</td><td> 0.15457969 </td><td>-0.076656167</td><td>-0.032735466</td></tr>\n",
       "\t<tr><th scope=row>thtr_rel_month</th><td> 0.22362935 </td><td>-0.012273599</td><td> 1.00000000 </td><td> 0.139499582</td><td>-0.017759063</td><td>-0.144679718</td><td> 0.025209517</td><td> 0.096163040</td><td> 0.12418133 </td><td> 0.071177399</td><td> 0.055779316</td></tr>\n",
       "\t<tr><th scope=row>thtr_rel_day</th><td> 0.01405180 </td><td> 0.101436328</td><td> 0.13949958 </td><td> 1.000000000</td><td> 0.046170524</td><td>-0.003061158</td><td>-0.024675264</td><td> 0.019718932</td><td> 0.06293989 </td><td> 0.037242883</td><td> 0.019707765</td></tr>\n",
       "\t<tr><th scope=row>dvd_rel_year</th><td>-0.08581717 </td><td> 0.660003094</td><td>-0.01775906 </td><td> 0.046170524</td><td> 1.000000000</td><td>-0.022568610</td><td>-0.072749387</td><td>-0.002343631</td><td> 0.11614256 </td><td> 0.013083532</td><td>-0.046066449</td></tr>\n",
       "\t<tr><th scope=row>dvd_rel_month</th><td>-0.03435692 </td><td> 0.039313687</td><td>-0.14467972 </td><td>-0.003061158</td><td>-0.022568610</td><td> 1.000000000</td><td>-0.020638191</td><td> 0.044909505</td><td> 0.04880466 </td><td>-0.004015632</td><td> 0.056367253</td></tr>\n",
       "\t<tr><th scope=row>dvd_rel_day</th><td> 0.01441541 </td><td>-0.008207814</td><td> 0.02520952 </td><td>-0.024675264</td><td>-0.072749387</td><td>-0.020638191</td><td> 1.000000000</td><td>-0.001373309</td><td>-0.01571554 </td><td>-0.025710075</td><td> 0.005615385</td></tr>\n",
       "\t<tr><th scope=row>imdb_rating</th><td> 0.23813883 </td><td>-0.024295900</td><td> 0.09616304 </td><td> 0.019718932</td><td>-0.002343631</td><td> 0.044909505</td><td>-0.001373309</td><td> 1.000000000</td><td> 0.32017885 </td><td> 0.766421702</td><td> 0.862934330</td></tr>\n",
       "\t<tr><th scope=row>imdb_num_votes</th><td> 0.33088145 </td><td> 0.154579688</td><td> 0.12418133 </td><td> 0.062939890</td><td> 0.116142562</td><td> 0.048804663</td><td>-0.015715537</td><td> 0.320178847</td><td> 1.00000000 </td><td> 0.201405490</td><td> 0.272805236</td></tr>\n",
       "\t<tr><th scope=row>critics_score</th><td> 0.14946245 </td><td>-0.076656167</td><td> 0.07117740 </td><td> 0.037242883</td><td> 0.013083532</td><td>-0.004015632</td><td>-0.025710075</td><td> 0.766421702</td><td> 0.20140549 </td><td> 1.000000000</td><td> 0.699331168</td></tr>\n",
       "\t<tr><th scope=row>audience_score</th><td> 0.13352886 </td><td>-0.032735466</td><td> 0.05577932 </td><td> 0.019707765</td><td>-0.046066449</td><td> 0.056367253</td><td> 0.005615385</td><td> 0.862934330</td><td> 0.27280524 </td><td> 0.699331168</td><td> 1.000000000</td></tr>\n",
       "</tbody>\n",
       "</table>\n"
      ],
      "text/latex": [
       "\\begin{tabular}{r|lllllllllll}\n",
       "  & runtime & thtr\\_rel\\_year & thtr\\_rel\\_month & thtr\\_rel\\_day & dvd\\_rel\\_year & dvd\\_rel\\_month & dvd\\_rel\\_day & imdb\\_rating & imdb\\_num\\_votes & critics\\_score & audience\\_score\\\\\n",
       "\\hline\n",
       "\truntime &  1.00000000  & -0.120204389 &  0.22362935  &  0.014051800 & -0.085817165 & -0.034356922 &  0.014415410 &  0.238138830 &  0.33088145  &  0.149462454 &  0.133528859\\\\\n",
       "\tthtr\\_rel\\_year & -0.12020439  &  1.000000000 & -0.01227360  &  0.101436328 &  0.660003094 &  0.039313687 & -0.008207814 & -0.024295900 &  0.15457969  & -0.076656167 & -0.032735466\\\\\n",
       "\tthtr\\_rel\\_month &  0.22362935  & -0.012273599 &  1.00000000  &  0.139499582 & -0.017759063 & -0.144679718 &  0.025209517 &  0.096163040 &  0.12418133  &  0.071177399 &  0.055779316\\\\\n",
       "\tthtr\\_rel\\_day &  0.01405180  &  0.101436328 &  0.13949958  &  1.000000000 &  0.046170524 & -0.003061158 & -0.024675264 &  0.019718932 &  0.06293989  &  0.037242883 &  0.019707765\\\\\n",
       "\tdvd\\_rel\\_year & -0.08581717  &  0.660003094 & -0.01775906  &  0.046170524 &  1.000000000 & -0.022568610 & -0.072749387 & -0.002343631 &  0.11614256  &  0.013083532 & -0.046066449\\\\\n",
       "\tdvd\\_rel\\_month & -0.03435692  &  0.039313687 & -0.14467972  & -0.003061158 & -0.022568610 &  1.000000000 & -0.020638191 &  0.044909505 &  0.04880466  & -0.004015632 &  0.056367253\\\\\n",
       "\tdvd\\_rel\\_day &  0.01441541  & -0.008207814 &  0.02520952  & -0.024675264 & -0.072749387 & -0.020638191 &  1.000000000 & -0.001373309 & -0.01571554  & -0.025710075 &  0.005615385\\\\\n",
       "\timdb\\_rating &  0.23813883  & -0.024295900 &  0.09616304  &  0.019718932 & -0.002343631 &  0.044909505 & -0.001373309 &  1.000000000 &  0.32017885  &  0.766421702 &  0.862934330\\\\\n",
       "\timdb\\_num\\_votes &  0.33088145  &  0.154579688 &  0.12418133  &  0.062939890 &  0.116142562 &  0.048804663 & -0.015715537 &  0.320178847 &  1.00000000  &  0.201405490 &  0.272805236\\\\\n",
       "\tcritics\\_score &  0.14946245  & -0.076656167 &  0.07117740  &  0.037242883 &  0.013083532 & -0.004015632 & -0.025710075 &  0.766421702 &  0.20140549  &  1.000000000 &  0.699331168\\\\\n",
       "\taudience\\_score &  0.13352886  & -0.032735466 &  0.05577932  &  0.019707765 & -0.046066449 &  0.056367253 &  0.005615385 &  0.862934330 &  0.27280524  &  0.699331168 &  1.000000000\\\\\n",
       "\\end{tabular}\n"
      ],
      "text/markdown": [
       "\n",
       "| <!--/--> | runtime | thtr_rel_year | thtr_rel_month | thtr_rel_day | dvd_rel_year | dvd_rel_month | dvd_rel_day | imdb_rating | imdb_num_votes | critics_score | audience_score |\n",
       "|---|---|---|---|---|---|---|---|---|---|---|---|\n",
       "| runtime |  1.00000000  | -0.120204389 |  0.22362935  |  0.014051800 | -0.085817165 | -0.034356922 |  0.014415410 |  0.238138830 |  0.33088145  |  0.149462454 |  0.133528859 |\n",
       "| thtr_rel_year | -0.12020439  |  1.000000000 | -0.01227360  |  0.101436328 |  0.660003094 |  0.039313687 | -0.008207814 | -0.024295900 |  0.15457969  | -0.076656167 | -0.032735466 |\n",
       "| thtr_rel_month |  0.22362935  | -0.012273599 |  1.00000000  |  0.139499582 | -0.017759063 | -0.144679718 |  0.025209517 |  0.096163040 |  0.12418133  |  0.071177399 |  0.055779316 |\n",
       "| thtr_rel_day |  0.01405180  |  0.101436328 |  0.13949958  |  1.000000000 |  0.046170524 | -0.003061158 | -0.024675264 |  0.019718932 |  0.06293989  |  0.037242883 |  0.019707765 |\n",
       "| dvd_rel_year | -0.08581717  |  0.660003094 | -0.01775906  |  0.046170524 |  1.000000000 | -0.022568610 | -0.072749387 | -0.002343631 |  0.11614256  |  0.013083532 | -0.046066449 |\n",
       "| dvd_rel_month | -0.03435692  |  0.039313687 | -0.14467972  | -0.003061158 | -0.022568610 |  1.000000000 | -0.020638191 |  0.044909505 |  0.04880466  | -0.004015632 |  0.056367253 |\n",
       "| dvd_rel_day |  0.01441541  | -0.008207814 |  0.02520952  | -0.024675264 | -0.072749387 | -0.020638191 |  1.000000000 | -0.001373309 | -0.01571554  | -0.025710075 |  0.005615385 |\n",
       "| imdb_rating |  0.23813883  | -0.024295900 |  0.09616304  |  0.019718932 | -0.002343631 |  0.044909505 | -0.001373309 |  1.000000000 |  0.32017885  |  0.766421702 |  0.862934330 |\n",
       "| imdb_num_votes |  0.33088145  |  0.154579688 |  0.12418133  |  0.062939890 |  0.116142562 |  0.048804663 | -0.015715537 |  0.320178847 |  1.00000000  |  0.201405490 |  0.272805236 |\n",
       "| critics_score |  0.14946245  | -0.076656167 |  0.07117740  |  0.037242883 |  0.013083532 | -0.004015632 | -0.025710075 |  0.766421702 |  0.20140549  |  1.000000000 |  0.699331168 |\n",
       "| audience_score |  0.13352886  | -0.032735466 |  0.05577932  |  0.019707765 | -0.046066449 |  0.056367253 |  0.005615385 |  0.862934330 |  0.27280524  |  0.699331168 |  1.000000000 |\n",
       "\n"
      ],
      "text/plain": [
       "               runtime     thtr_rel_year thtr_rel_month thtr_rel_day\n",
       "runtime         1.00000000 -0.120204389   0.22362935     0.014051800\n",
       "thtr_rel_year  -0.12020439  1.000000000  -0.01227360     0.101436328\n",
       "thtr_rel_month  0.22362935 -0.012273599   1.00000000     0.139499582\n",
       "thtr_rel_day    0.01405180  0.101436328   0.13949958     1.000000000\n",
       "dvd_rel_year   -0.08581717  0.660003094  -0.01775906     0.046170524\n",
       "dvd_rel_month  -0.03435692  0.039313687  -0.14467972    -0.003061158\n",
       "dvd_rel_day     0.01441541 -0.008207814   0.02520952    -0.024675264\n",
       "imdb_rating     0.23813883 -0.024295900   0.09616304     0.019718932\n",
       "imdb_num_votes  0.33088145  0.154579688   0.12418133     0.062939890\n",
       "critics_score   0.14946245 -0.076656167   0.07117740     0.037242883\n",
       "audience_score  0.13352886 -0.032735466   0.05577932     0.019707765\n",
       "               dvd_rel_year dvd_rel_month dvd_rel_day  imdb_rating \n",
       "runtime        -0.085817165 -0.034356922   0.014415410  0.238138830\n",
       "thtr_rel_year   0.660003094  0.039313687  -0.008207814 -0.024295900\n",
       "thtr_rel_month -0.017759063 -0.144679718   0.025209517  0.096163040\n",
       "thtr_rel_day    0.046170524 -0.003061158  -0.024675264  0.019718932\n",
       "dvd_rel_year    1.000000000 -0.022568610  -0.072749387 -0.002343631\n",
       "dvd_rel_month  -0.022568610  1.000000000  -0.020638191  0.044909505\n",
       "dvd_rel_day    -0.072749387 -0.020638191   1.000000000 -0.001373309\n",
       "imdb_rating    -0.002343631  0.044909505  -0.001373309  1.000000000\n",
       "imdb_num_votes  0.116142562  0.048804663  -0.015715537  0.320178847\n",
       "critics_score   0.013083532 -0.004015632  -0.025710075  0.766421702\n",
       "audience_score -0.046066449  0.056367253   0.005615385  0.862934330\n",
       "               imdb_num_votes critics_score audience_score\n",
       "runtime         0.33088145     0.149462454   0.133528859  \n",
       "thtr_rel_year   0.15457969    -0.076656167  -0.032735466  \n",
       "thtr_rel_month  0.12418133     0.071177399   0.055779316  \n",
       "thtr_rel_day    0.06293989     0.037242883   0.019707765  \n",
       "dvd_rel_year    0.11614256     0.013083532  -0.046066449  \n",
       "dvd_rel_month   0.04880466    -0.004015632   0.056367253  \n",
       "dvd_rel_day    -0.01571554    -0.025710075   0.005615385  \n",
       "imdb_rating     0.32017885     0.766421702   0.862934330  \n",
       "imdb_num_votes  1.00000000     0.201405490   0.272805236  \n",
       "critics_score   0.20140549     1.000000000   0.699331168  \n",
       "audience_score  0.27280524     0.699331168   1.000000000  "
      ]
     },
     "metadata": {},
     "output_type": "display_data"
    }
   ],
   "source": [
    "numericIndices <- sapply(medianImputTrainingData, is.numeric) # extract which columns are numeric\n",
    "colsCorr <- cor(medianImputTrainingData[,numericIndices])     # filter out non numeric columns\n",
    "colsCorr                                                      # evaluate results\n"
   ]
  },
  {
   "cell_type": "markdown",
   "metadata": {},
   "source": [
    "Feature Engineering and Modeling\n",
    "Feature engineering is a non standard field of data modelling / machine learning that tries to transform raw data into features that better represent the underlying problem to the predictive models, resulting in improved model accuracy on unseen data. In this section, I present the insights that I have made to get to the final model. The movies training dataset was repeatedly sampled and transformed in order to get a high adjusted R2 score. The list below shows the feature engineering process taken to get to the final model and their respective R2 scores. I will explain each item and why I have included them in the final model. For each model created, the residuals and predicted values plot was analyzed, using the code below.\n"
   ]
  },
  {
   "cell_type": "code",
   "execution_count": 31,
   "metadata": {},
   "outputs": [],
   "source": [
    "# recurrent evaluation using this section\n",
    "\n",
    "                  # predicted values for the training dataset\n",
    "#testePredict <- predict(final.model,medianImputTrainingPredictors)\n",
    "                  # plot expected versus predicted values\n",
    "#plot(abs(medianImputTrainingPredictors$imdb_rating - testePredict))\n",
    "                  # plot attributes distribution versus predicted values\n",
    "#for(i in 1:ncol(medianImputTrainingPredictors))\n",
    "#{\n",
    " # title <- sprintf('%s', names(medianImputTrainingPredictors)[i])\n",
    " # plot(medianImputTrainingPredictors[,i],medianImputTrainingPredictors$imdb_rating,main = #title)\n",
    "#\n",
    "#}\n"
   ]
  },
  {
   "cell_type": "markdown",
   "metadata": {},
   "source": [
    "1 - Pure Model: The raw model built Previously\n",
    "\n",
    "2 - Transformation of imdb_ratings < 5 to 5: As we are trying to predict the best ratings, I removed the low score ratings and merged then into the 5 score. In this way, maybe we would reduce the noise and force the model to focus to predict the different scores > 5.\n",
    "\n",
    "3 - Theatre release year bin transformation: Another feature transformation to try to reduce the variance of the model. Firstly, grouping the years in bins created just 5 years categories, instead of more than 40 years of variations and, besides that, looking at the histogram of the release year attribute, we noticed that people is not used to rating a movie with a bad score, they usually rate a movie if there is a positive impression about it. Secondly, the idea is that maybe the impact of year in the final imdb ratings were not granulated as individual years, but in a range of years.\n",
    "\n",
    "4 - Weights to award wining/nominated movies: As we have verified in the NZV variables, the nominated people indicator for best actor / actress / director showed a high discrimination capacity. But we have also seen that the number of examples with nominated celebrities was really small. This sounded like a class imbalance problem, where the model just learned to ignore this examples and tended to use the majority of the other values, i.e. no people nominate. To force the model to pay a higher attention to these minor examples, we altered our linear model to a weighted linear regression, where we add a weight term to the classic least squares algorithm:\n",
    "\n",
    "5 - Best Actress factor removal and horror movie category removed: After ploting the best_actress_win versus the predicted imdb_rating, We saw that there was no significant difference between the predicted imbd_ratings for a movie with a best actress prize winner and a no winner. Besides, We also realized that the horror movie genre could not bring a better prediction power, and removing it increased the adjusted R2 score.\n",
    "\n",
    "6 - Interaction terms between release year and movie genre, best actor, actress and director: This interaction between factor variables worked as an increase in the β0 bias parameter. My thought was that maybe people used to rate old (i.e. ‘classic’, ‘old-school’, etc…) movies with a better spirit than when with new blockbuster movies. This was a gut feeling, there was no graphical or statistical evidence for the variables interaction but the feeling that people like to feel cult. This step generated a lot of parameters, but they also provided good useful information also, because the adjusted R2 followed the general R2 closely.\n",
    "\n",
    "7 - Inclusion of the 5 biggest studios: At the beggining of the project, I did not include the studios variable, because there was too much variability (an unique variable factor of 90%, meaning that 90% of the total studios values were unique). But maybe, movies coming from the biggests (and more famous) studios could bring some more clues about its ratings. So I selected the 5 more frequent studios in the training dataset and transformed the other studios to a new category, ‘other’. The new added variable was a factor with 6 levels, the 5 biggest studios and the ‘other’ category.\n",
    "\n",
    "8 - Removal of the best actress weights: This process followed step 5, as I had forgotten to remove the weights of the best_actress_win variable. They were not even being included in the model, so there was no sense in maintain big importance weights for the movies coming with an award wining actress.\n",
    "\n",
    "All the feature engineer steps presented above are coded below and, finally, the final model is presented. As we would use the same steps for the training and testing dataset, We created a function that took a dataframe plus the function mode (training or testing) and it returned the processed dataframe. Besides the feature engineer process, we also transformed two significant parameters from the first model. “runtime” and “imdb_num_votes” were really significant predictors, but their parameter value were really small (runtime = 5.923e-03 and imdb_num_votes), so We transformed then to a bigger scale (runtime in hours and imdb_num_votes x 1000). In this way, our parameters would be on a scale easier to understand."
   ]
  },
  {
   "cell_type": "code",
   "execution_count": 32,
   "metadata": {},
   "outputs": [],
   "source": [
    "moviesVarEngineer <- function(dataFrame, mode){\n",
    "  \n",
    "  ######### feature transformation \n",
    "  dataFrame$imdb_num_votes <- dataFrame$imdb_num_votes/1000\n",
    "  dataFrame$runtime <- dataFrame$runtime/60\n",
    "  ######### \n",
    "  \n",
    "  # step 2\n",
    "  dataFrame$imdb_rating[dataFrame$imdb_rating < 5] <- 5\n",
    "  \n",
    "  # step 3\n",
    "  dataFrame$thtr_rel_year_BIN <- cut(dataFrame$thtr_rel_year, breaks = c(1969, 1980, 1990,2000,2010, 2014))\n",
    "  dataFrame$thtr_rel_year <- NULL\n",
    "  \n",
    "  # step 4 = weights - outside of the function\n",
    "  \n",
    "  # step 5 = best actress removal and horror genre category removal\n",
    "  dataFrame$genre[dataFrame$genre == 'Horror'] <- 'Other'\n",
    "  dataFrame$genre <- factor(dataFrame$genre, levels = levels(dataFrame$genre)[c(1:6,8:11)])\n",
    "  \n",
    "  # step 6 = added interactions in the final model\n",
    "  \n",
    "  # step 7 = selected the 5 biggest studios and transformed the others to 'other'\n",
    "  studios <- c('Paramount Pictures','Warner Bros. Pictures','Sony Pictures Home Entertainment','Universal Pictures','Warner Home Video')\n",
    "  if(mode == 'training'){\n",
    "    dataFrame$studio <- training$studio  \n",
    "  }else{\n",
    "    dataFrame$studio <- testing$studio\n",
    "  }\n",
    "  dataFrame$studio[!dataFrame$studio %in% studios] <- NA\n",
    "  dataFrame$studio <- factor(dataFrame$studio, levels = c(studios,'Other'))\n",
    "  dataFrame$studio[is.na(dataFrame$studio)] <- 'Other'\n",
    "  \n",
    "  invisible(dataFrame)\n",
    "}\n"
   ]
  },
  {
   "cell_type": "code",
   "execution_count": 33,
   "metadata": {},
   "outputs": [
    {
     "data": {
      "text/plain": [
       "\n",
       "Call:\n",
       "lm(formula = imdb_rating ~ title_type + genre + runtime + mpaa_rating + \n",
       "    imdb_num_votes + best_pic_nom + thtr_rel_year_BIN + best_pic_win + \n",
       "    best_dir_win + studio + genre:thtr_rel_year_BIN + thtr_rel_year_BIN:best_pic_win + \n",
       "    thtr_rel_year_BIN:best_actress_win + thtr_rel_year_BIN:best_dir_win, \n",
       "    data = medianImputTrainingPredictors, weights = weight)\n",
       "\n",
       "Weighted Residuals:\n",
       "    Min      1Q  Median      3Q     Max \n",
       "-44.713  -0.880  -0.246   0.329  34.204 \n",
       "\n",
       "Coefficients: (7 not defined because of singularities)\n",
       "                                                              Estimate\n",
       "(Intercept)                                                  5.6210711\n",
       "title_typeFeature Film                                      -0.7739097\n",
       "title_typeTV Movie                                          -0.8516369\n",
       "genreAnimation                                              -0.6769346\n",
       "genreArt House & International                               1.7014661\n",
       "genreComedy                                                  0.0894605\n",
       "genreDocumentary                                             1.4716851\n",
       "genreDrama                                                   1.3376171\n",
       "genreMusical & Performing Arts                               0.9087322\n",
       "genreMystery & Suspense                                      1.3410826\n",
       "genreOther                                                   0.9406589\n",
       "genreScience Fiction & Fantasy                               0.3966360\n",
       "runtime                                                      0.0087630\n",
       "mpaa_ratingNC-17                                            -0.5186322\n",
       "mpaa_ratingPG                                               -0.1108499\n",
       "mpaa_ratingPG-13                                            -0.4395244\n",
       "mpaa_ratingR                                                -0.6946682\n",
       "mpaa_ratingUnrated                                          -0.5880236\n",
       "imdb_num_votes                                               0.0018835\n",
       "best_pic_nomyes                                              0.2476523\n",
       "thtr_rel_year_BIN(1980,1990]                                 1.1994887\n",
       "thtr_rel_year_BIN(1990,2000]                                 1.0400028\n",
       "thtr_rel_year_BIN(2000,2010]                                -0.4251274\n",
       "thtr_rel_year_BIN(2010,2014]                                 0.5930341\n",
       "best_pic_winyes                                              1.5510932\n",
       "best_dir_winyes                                              0.2542163\n",
       "studioWarner Bros. Pictures                                  0.7285269\n",
       "studioSony Pictures Home Entertainment                       1.2346553\n",
       "studioUniversal Pictures                                     1.5645527\n",
       "studioWarner Home Video                                      0.9218925\n",
       "studioOther                                                  0.8512230\n",
       "genreAnimation:thtr_rel_year_BIN(1980,1990]                  0.4100795\n",
       "genreArt House & International:thtr_rel_year_BIN(1980,1990] -2.2287819\n",
       "genreComedy:thtr_rel_year_BIN(1980,1990]                    -1.3638170\n",
       "genreDocumentary:thtr_rel_year_BIN(1980,1990]               -0.7177241\n",
       "genreDrama:thtr_rel_year_BIN(1980,1990]                     -0.9079711\n",
       "genreMusical & Performing Arts:thtr_rel_year_BIN(1980,1990] -1.1350303\n",
       "genreMystery & Suspense:thtr_rel_year_BIN(1980,1990]        -1.2009177\n",
       "genreOther:thtr_rel_year_BIN(1980,1990]                     -0.7560871\n",
       "genreScience Fiction & Fantasy:thtr_rel_year_BIN(1980,1990] -2.2132030\n",
       "genreAnimation:thtr_rel_year_BIN(1990,2000]                         NA\n",
       "genreArt House & International:thtr_rel_year_BIN(1990,2000] -0.8282191\n",
       "genreComedy:thtr_rel_year_BIN(1990,2000]                     1.3661474\n",
       "genreDocumentary:thtr_rel_year_BIN(1990,2000]               -1.1534230\n",
       "genreDrama:thtr_rel_year_BIN(1990,2000]                     -0.5536945\n",
       "genreMusical & Performing Arts:thtr_rel_year_BIN(1990,2000] -0.0213089\n",
       "genreMystery & Suspense:thtr_rel_year_BIN(1990,2000]        -0.0763565\n",
       "genreOther:thtr_rel_year_BIN(1990,2000]                     -1.4434268\n",
       "genreScience Fiction & Fantasy:thtr_rel_year_BIN(1990,2000] -0.4942633\n",
       "genreAnimation:thtr_rel_year_BIN(2000,2010]                  1.8697581\n",
       "genreArt House & International:thtr_rel_year_BIN(2000,2010]  0.7108627\n",
       "genreComedy:thtr_rel_year_BIN(2000,2010]                     0.7924703\n",
       "genreDocumentary:thtr_rel_year_BIN(2000,2010]                0.7263240\n",
       "genreDrama:thtr_rel_year_BIN(2000,2010]                      1.0103823\n",
       "genreMusical & Performing Arts:thtr_rel_year_BIN(2000,2010]  1.6563101\n",
       "genreMystery & Suspense:thtr_rel_year_BIN(2000,2010]         0.5060536\n",
       "genreOther:thtr_rel_year_BIN(2000,2010]                      2.4555018\n",
       "genreScience Fiction & Fantasy:thtr_rel_year_BIN(2000,2010]         NA\n",
       "genreAnimation:thtr_rel_year_BIN(2010,2014]                         NA\n",
       "genreArt House & International:thtr_rel_year_BIN(2010,2014] -1.3483408\n",
       "genreComedy:thtr_rel_year_BIN(2010,2014]                    -0.1885168\n",
       "genreDocumentary:thtr_rel_year_BIN(2010,2014]               -0.4157225\n",
       "genreDrama:thtr_rel_year_BIN(2010,2014]                     -0.0436405\n",
       "genreMusical & Performing Arts:thtr_rel_year_BIN(2010,2014]         NA\n",
       "genreMystery & Suspense:thtr_rel_year_BIN(2010,2014]        -0.1693866\n",
       "genreOther:thtr_rel_year_BIN(2010,2014]                      0.0036698\n",
       "genreScience Fiction & Fantasy:thtr_rel_year_BIN(2010,2014]         NA\n",
       "thtr_rel_year_BIN(1980,1990]:best_pic_winyes                        NA\n",
       "thtr_rel_year_BIN(1990,2000]:best_pic_winyes                -1.3366598\n",
       "thtr_rel_year_BIN(2000,2010]:best_pic_winyes                -1.3862629\n",
       "thtr_rel_year_BIN(2010,2014]:best_pic_winyes                        NA\n",
       "thtr_rel_year_BIN(1969,1980]:best_actress_winyes             0.0117706\n",
       "thtr_rel_year_BIN(1980,1990]:best_actress_winyes            -0.1312984\n",
       "thtr_rel_year_BIN(1990,2000]:best_actress_winyes             0.0703215\n",
       "thtr_rel_year_BIN(2000,2010]:best_actress_winyes            -0.1776694\n",
       "thtr_rel_year_BIN(2010,2014]:best_actress_winyes             0.5462519\n",
       "thtr_rel_year_BIN(1980,1990]:best_dir_winyes                 0.2295618\n",
       "thtr_rel_year_BIN(1990,2000]:best_dir_winyes                -0.5987371\n",
       "thtr_rel_year_BIN(2000,2010]:best_dir_winyes                -0.4856220\n",
       "thtr_rel_year_BIN(2010,2014]:best_dir_winyes                -1.2393215\n",
       "                                                            Std. Error t value\n",
       "(Intercept)                                                  1.7841266   3.151\n",
       "title_typeFeature Film                                       1.4392286  -0.538\n",
       "title_typeTV Movie                                           2.2409236  -0.380\n",
       "genreAnimation                                               3.0412630  -0.223\n",
       "genreArt House & International                               2.4623433   0.691\n",
       "genreComedy                                                  2.0337947   0.044\n",
       "genreDocumentary                                             2.4949026   0.590\n",
       "genreDrama                                                   0.1330905  10.050\n",
       "genreMusical & Performing Arts                               3.2029477   0.284\n",
       "genreMystery & Suspense                                      2.0346831   0.659\n",
       "genreOther                                                   1.6012891   0.587\n",
       "genreScience Fiction & Fantasy                               2.4619286   0.161\n",
       "runtime                                                      0.0953895   0.092\n",
       "mpaa_ratingNC-17                                             2.6375719  -0.197\n",
       "mpaa_ratingPG                                                1.0521827  -0.105\n",
       "mpaa_ratingPG-13                                             1.0525706  -0.418\n",
       "mpaa_ratingR                                                 1.0484700  -0.663\n",
       "mpaa_ratingUnrated                                           1.2237146  -0.481\n",
       "imdb_num_votes                                               0.0002625   7.175\n",
       "best_pic_nomyes                                              0.1195766   2.071\n",
       "thtr_rel_year_BIN(1980,1990]                                 1.1523185   1.041\n",
       "thtr_rel_year_BIN(1990,2000]                                 0.5036106   2.065\n",
       "thtr_rel_year_BIN(2000,2010]                                 0.6022951  -0.706\n",
       "thtr_rel_year_BIN(2010,2014]                                 1.6055558   0.369\n",
       "best_pic_winyes                                              2.0383085   0.761\n",
       "best_dir_winyes                                              0.4822995   0.527\n",
       "studioWarner Bros. Pictures                                  0.4841409   1.505\n",
       "studioSony Pictures Home Entertainment                       0.1684254   7.331\n",
       "studioUniversal Pictures                                     0.3351444   4.668\n",
       "studioWarner Home Video                                      0.1481316   6.223\n",
       "studioOther                                                  0.1317167   6.463\n",
       "genreAnimation:thtr_rel_year_BIN(1980,1990]                  4.5776569   0.090\n",
       "genreArt House & International:thtr_rel_year_BIN(1980,1990]  3.6022016  -0.619\n",
       "genreComedy:thtr_rel_year_BIN(1980,1990]                     2.3364604  -0.584\n",
       "genreDocumentary:thtr_rel_year_BIN(1980,1990]                3.0397515  -0.236\n",
       "genreDrama:thtr_rel_year_BIN(1980,1990]                      1.1855122  -0.766\n",
       "genreMusical & Performing Arts:thtr_rel_year_BIN(1980,1990]  3.4034378  -0.333\n",
       "genreMystery & Suspense:thtr_rel_year_BIN(1980,1990]         2.3492712  -0.511\n",
       "genreOther:thtr_rel_year_BIN(1980,1990]                      1.9783075  -0.382\n",
       "genreScience Fiction & Fantasy:thtr_rel_year_BIN(1980,1990]  4.3336954  -0.511\n",
       "genreAnimation:thtr_rel_year_BIN(1990,2000]                         NA      NA\n",
       "genreArt House & International:thtr_rel_year_BIN(1990,2000]  3.4709776  -0.239\n",
       "genreComedy:thtr_rel_year_BIN(1990,2000]                     2.0389537   0.670\n",
       "genreDocumentary:thtr_rel_year_BIN(1990,2000]                2.8703364  -0.402\n",
       "genreDrama:thtr_rel_year_BIN(1990,2000]                      0.1958467  -2.827\n",
       "genreMusical & Performing Arts:thtr_rel_year_BIN(1990,2000]  4.6825600  -0.005\n",
       "genreMystery & Suspense:thtr_rel_year_BIN(1990,2000]         2.0445633  -0.037\n",
       "genreOther:thtr_rel_year_BIN(1990,2000]                      2.5412442  -0.568\n",
       "genreScience Fiction & Fantasy:thtr_rel_year_BIN(1990,2000]  3.4978284  -0.141\n",
       "genreAnimation:thtr_rel_year_BIN(2000,2010]                  3.3808155   0.553\n",
       "genreArt House & International:thtr_rel_year_BIN(2000,2010]  2.9300395   0.243\n",
       "genreComedy:thtr_rel_year_BIN(2000,2010]                     2.1656912   0.366\n",
       "genreDocumentary:thtr_rel_year_BIN(2000,2010]                2.1999761   0.330\n",
       "genreDrama:thtr_rel_year_BIN(2000,2010]                      0.3924813   2.574\n",
       "genreMusical & Performing Arts:thtr_rel_year_BIN(2000,2010]  3.7703094   0.439\n",
       "genreMystery & Suspense:thtr_rel_year_BIN(2000,2010]         2.2092219   0.229\n",
       "genreOther:thtr_rel_year_BIN(2000,2010]                      1.6648152   1.475\n",
       "genreScience Fiction & Fantasy:thtr_rel_year_BIN(2000,2010]         NA      NA\n",
       "genreAnimation:thtr_rel_year_BIN(2010,2014]                         NA      NA\n",
       "genreArt House & International:thtr_rel_year_BIN(2010,2014]  3.5137748  -0.384\n",
       "genreComedy:thtr_rel_year_BIN(2010,2014]                     2.7853486  -0.068\n",
       "genreDocumentary:thtr_rel_year_BIN(2010,2014]                2.7748576  -0.150\n",
       "genreDrama:thtr_rel_year_BIN(2010,2014]                      1.5378611  -0.028\n",
       "genreMusical & Performing Arts:thtr_rel_year_BIN(2010,2014]         NA      NA\n",
       "genreMystery & Suspense:thtr_rel_year_BIN(2010,2014]         2.7819540  -0.061\n",
       "genreOther:thtr_rel_year_BIN(2010,2014]                      2.2257942   0.002\n",
       "genreScience Fiction & Fantasy:thtr_rel_year_BIN(2010,2014]         NA      NA\n",
       "thtr_rel_year_BIN(1980,1990]:best_pic_winyes                        NA      NA\n",
       "thtr_rel_year_BIN(1990,2000]:best_pic_winyes                 2.0341604  -0.657\n",
       "thtr_rel_year_BIN(2000,2010]:best_pic_winyes                 2.0398496  -0.680\n",
       "thtr_rel_year_BIN(2010,2014]:best_pic_winyes                        NA      NA\n",
       "thtr_rel_year_BIN(1969,1980]:best_actress_winyes             0.1095017   0.107\n",
       "thtr_rel_year_BIN(1980,1990]:best_actress_winyes             0.4964598  -0.264\n",
       "thtr_rel_year_BIN(1990,2000]:best_actress_winyes             0.1963564   0.358\n",
       "thtr_rel_year_BIN(2000,2010]:best_actress_winyes             0.1130586  -1.571\n",
       "thtr_rel_year_BIN(2010,2014]:best_actress_winyes             1.1491900   0.475\n",
       "thtr_rel_year_BIN(1980,1990]:best_dir_winyes                 0.6531325   0.351\n",
       "thtr_rel_year_BIN(1990,2000]:best_dir_winyes                 0.4836633  -1.238\n",
       "thtr_rel_year_BIN(2000,2010]:best_dir_winyes                 0.5001903  -0.971\n",
       "thtr_rel_year_BIN(2010,2014]:best_dir_winyes                 0.5489361  -2.258\n",
       "                                                            Pr(>|t|)    \n",
       "(Intercept)                                                  0.00174 ** \n",
       "title_typeFeature Film                                       0.59103    \n",
       "title_typeTV Movie                                           0.70410    \n",
       "genreAnimation                                               0.82396    \n",
       "genreArt House & International                               0.48993    \n",
       "genreComedy                                                  0.96493    \n",
       "genreDocumentary                                             0.55557    \n",
       "genreDrama                                                   < 2e-16 ***\n",
       "genreMusical & Performing Arts                               0.77676    \n",
       "genreMystery & Suspense                                      0.51016    \n",
       "genreOther                                                   0.55721    \n",
       "genreScience Fiction & Fantasy                               0.87208    \n",
       "runtime                                                      0.92685    \n",
       "mpaa_ratingNC-17                                             0.84420    \n",
       "mpaa_ratingPG                                                0.91614    \n",
       "mpaa_ratingPG-13                                             0.67646    \n",
       "mpaa_ratingR                                                 0.50796    \n",
       "mpaa_ratingUnrated                                           0.63109    \n",
       "imdb_num_votes                                              3.02e-12 ***\n",
       "best_pic_nomyes                                              0.03892 *  \n",
       "thtr_rel_year_BIN(1980,1990]                                 0.29847    \n",
       "thtr_rel_year_BIN(1990,2000]                                 0.03949 *  \n",
       "thtr_rel_year_BIN(2000,2010]                                 0.48065    \n",
       "thtr_rel_year_BIN(2010,2014]                                 0.71203    \n",
       "best_pic_winyes                                              0.44707    \n",
       "best_dir_winyes                                              0.59839    \n",
       "studioWarner Bros. Pictures                                  0.13308    \n",
       "studioSony Pictures Home Entertainment                      1.08e-12 ***\n",
       "studioUniversal Pictures                                    4.02e-06 ***\n",
       "studioWarner Home Video                                     1.12e-09 ***\n",
       "studioOther                                                 2.69e-10 ***\n",
       "genreAnimation:thtr_rel_year_BIN(1980,1990]                  0.92866    \n",
       "genreArt House & International:thtr_rel_year_BIN(1980,1990]  0.53641    \n",
       "genreComedy:thtr_rel_year_BIN(1980,1990]                     0.55971    \n",
       "genreDocumentary:thtr_rel_year_BIN(1980,1990]                0.81345    \n",
       "genreDrama:thtr_rel_year_BIN(1980,1990]                      0.44415    \n",
       "genreMusical & Performing Arts:thtr_rel_year_BIN(1980,1990]  0.73892    \n",
       "genreMystery & Suspense:thtr_rel_year_BIN(1980,1990]         0.60947    \n",
       "genreOther:thtr_rel_year_BIN(1980,1990]                      0.70250    \n",
       "genreScience Fiction & Fantasy:thtr_rel_year_BIN(1980,1990]  0.60982    \n",
       "genreAnimation:thtr_rel_year_BIN(1990,2000]                       NA    \n",
       "genreArt House & International:thtr_rel_year_BIN(1990,2000]  0.81152    \n",
       "genreComedy:thtr_rel_year_BIN(1990,2000]                     0.50319    \n",
       "genreDocumentary:thtr_rel_year_BIN(1990,2000]                0.68799    \n",
       "genreDrama:thtr_rel_year_BIN(1990,2000]                      0.00491 ** \n",
       "genreMusical & Performing Arts:thtr_rel_year_BIN(1990,2000]  0.99637    \n",
       "genreMystery & Suspense:thtr_rel_year_BIN(1990,2000]         0.97023    \n",
       "genreOther:thtr_rel_year_BIN(1990,2000]                      0.57032    \n",
       "genreScience Fiction & Fantasy:thtr_rel_year_BIN(1990,2000]  0.88769    \n",
       "genreAnimation:thtr_rel_year_BIN(2000,2010]                  0.58051    \n",
       "genreArt House & International:thtr_rel_year_BIN(2000,2010]  0.80842    \n",
       "genreComedy:thtr_rel_year_BIN(2000,2010]                     0.71460    \n",
       "genreDocumentary:thtr_rel_year_BIN(2000,2010]                0.74144    \n",
       "genreDrama:thtr_rel_year_BIN(2000,2010]                      0.01036 *  \n",
       "genreMusical & Performing Arts:thtr_rel_year_BIN(2000,2010]  0.66065    \n",
       "genreMystery & Suspense:thtr_rel_year_BIN(2000,2010]         0.81892    \n",
       "genreOther:thtr_rel_year_BIN(2000,2010]                      0.14093    \n",
       "genreScience Fiction & Fantasy:thtr_rel_year_BIN(2000,2010]       NA    \n",
       "genreAnimation:thtr_rel_year_BIN(2010,2014]                       NA    \n",
       "genreArt House & International:thtr_rel_year_BIN(2010,2014]  0.70136    \n",
       "genreComedy:thtr_rel_year_BIN(2010,2014]                     0.94607    \n",
       "genreDocumentary:thtr_rel_year_BIN(2010,2014]                0.88098    \n",
       "genreDrama:thtr_rel_year_BIN(2010,2014]                      0.97737    \n",
       "genreMusical & Performing Arts:thtr_rel_year_BIN(2010,2014]       NA    \n",
       "genreMystery & Suspense:thtr_rel_year_BIN(2010,2014]         0.95148    \n",
       "genreOther:thtr_rel_year_BIN(2010,2014]                      0.99869    \n",
       "genreScience Fiction & Fantasy:thtr_rel_year_BIN(2010,2014]       NA    \n",
       "thtr_rel_year_BIN(1980,1990]:best_pic_winyes                      NA    \n",
       "thtr_rel_year_BIN(1990,2000]:best_pic_winyes                 0.51145    \n",
       "thtr_rel_year_BIN(2000,2010]:best_pic_winyes                 0.49711    \n",
       "thtr_rel_year_BIN(2010,2014]:best_pic_winyes                      NA    \n",
       "thtr_rel_year_BIN(1969,1980]:best_actress_winyes             0.91445    \n",
       "thtr_rel_year_BIN(1980,1990]:best_actress_winyes             0.79154    \n",
       "thtr_rel_year_BIN(1990,2000]:best_actress_winyes             0.72041    \n",
       "thtr_rel_year_BIN(2000,2010]:best_actress_winyes             0.11678    \n",
       "thtr_rel_year_BIN(2010,2014]:best_actress_winyes             0.63478    \n",
       "thtr_rel_year_BIN(1980,1990]:best_dir_winyes                 0.72539    \n",
       "thtr_rel_year_BIN(1990,2000]:best_dir_winyes                 0.21639    \n",
       "thtr_rel_year_BIN(2000,2010]:best_dir_winyes                 0.33213    \n",
       "thtr_rel_year_BIN(2010,2014]:best_dir_winyes                 0.02445 *  \n",
       "---\n",
       "Signif. codes:  0 '***' 0.001 '**' 0.01 '*' 0.05 '.' 0.1 ' ' 1\n",
       "\n",
       "Residual standard error: 3.411 on 448 degrees of freedom\n",
       "Multiple R-squared:  0.841,\tAdjusted R-squared:  0.8155 \n",
       "F-statistic: 32.92 on 72 and 448 DF,  p-value: < 2.2e-16\n"
      ]
     },
     "metadata": {},
     "output_type": "display_data"
    }
   ],
   "source": [
    "medianImputTrainingPredictors <- moviesVarEngineer(medianImputTrainingPredictors,'training')\n",
    "\n",
    "weight <- rep(NA,nrow(medianImputTrainingPredictors))\n",
    "weight[medianImputTrainingPredictors$best_pic_nom == 'yes'] <- 1000\n",
    "weight[medianImputTrainingPredictors$best_pic_win == 'yes'] <- 1000\n",
    "weight[medianImputTrainingPredictors$best_dir_win == 'yes'] <- 1000\n",
    "weight[is.na(weight)] <- 1\n",
    "\n",
    "final.model <- lm(imdb_rating ~ title_type + genre + runtime + \n",
    "              mpaa_rating  + imdb_num_votes + \n",
    "              best_pic_nom + thtr_rel_year_BIN + best_pic_win + \n",
    "              best_dir_win + studio + genre:thtr_rel_year_BIN +\n",
    "              thtr_rel_year_BIN:best_pic_win + thtr_rel_year_BIN:best_actress_win +\n",
    "              thtr_rel_year_BIN:best_dir_win,\n",
    "                data = medianImputTrainingPredictors,\n",
    "                weights = weight)\n",
    "summary(final.model)\n"
   ]
  },
  {
   "cell_type": "markdown",
   "metadata": {},
   "source": [
    "Part 5: Model Interpretation\n",
    "Firstly, we identify a few NA’s in the model. That happened because there was no examples in the training set the agreed with the two factor variables, e.g. there was no animation movie released between years 1980 and 1990 in the dataset.\n",
    "\n",
    "We took a look at the statistical significant parameter estimation.\n",
    "All the following results can be interpreted as the correlation of each paramenter with the imdb_rating response variable, when all the other attributes remain constant. Most of the attributes were positive correlated with the response variable.\n",
    "\n",
    "The base factor predictor for the genre attribute was action & adventure Starting from there, we can see that drama movies tend to get higher ratings, on average of 1.47 points more, and even higher scores for drama movies between (2000,2010)]. However, as the same drama genre is not so high for movies released between (1980,1990].\n",
    "\n",
    "The runtime attribute (in hours) got a positive correlation with the imdb_rating. In theory, each additional hour to the movie, we could, on average get a increase of 0.69 rating points. We have to be careful with this case, in the sense that we can not extra extrapolate the fit, looking at the Interquartile Range - IQR for the runtime variable, we see that the core values, the 25% and 75% quartiles are in a interval of just 0.383 points apart. So we can not extrapolate too much on the number of hours, i.e. we can not predict the average imdb_ratings for a 13 hours movie, expecting an incredible high score.\n",
    "\n"
   ]
  },
  {
   "cell_type": "code",
   "execution_count": 34,
   "metadata": {},
   "outputs": [
    {
     "data": {
      "text/html": [
       "0.366666666666667"
      ],
      "text/latex": [
       "0.366666666666667"
      ],
      "text/markdown": [
       "0.366666666666667"
      ],
      "text/plain": [
       "[1] 0.3666667"
      ]
     },
     "metadata": {},
     "output_type": "display_data"
    }
   ],
   "source": [
    "IQR(medianImputTrainingPredictors$runtime)\n"
   ]
  },
  {
   "cell_type": "markdown",
   "metadata": {},
   "source": [
    "One theory that might make sense in a video popularity is that, the more upvotes a movie receives, the more popular it becomes, more people will want to watch it because it is popular and more upvotes it will receive. This redundant path can be represented in the model above with the imdb_num_votes parameter estimation. For its value, each one thousand votes at IMDB, can make the movie ratings increase more 0.002 points. Considering that some movies can receive hundres of thousands votes, advertising for people review your movies can make it even more popular.\n",
    "\n",
    "Maybe it was because of random factors, but the parameter value for movies released between (2000,2010] souded like it was a bad decade. By its value, movies released in this decade tended to receive -2.08 points in imdb_ratings. Probably, this was not the only determinant factor for such low scores, but a better analysis with movies from this decade could be carried out, so we could identify more interesting factors exclusevely in this decade.\n",
    "\n",
    "The only factor variable that brought all of its levels as significant estimates was the studios attribute. Using the ‘Paramount Pictures’ studio as the baseline, we see that analyzing a movie from each of the 5 big studios, all of them could bring a bigger imdb_rating than Paramount studio, starting from 0.57 more for Warner Bros Pictures, until almost 2 points more with Universal Pictures. Even the ‘Other’ category got a higher estimate, but this interpretation is riskier because we grouped together all the other studios that did not belong to the 5 biggest studio group.\n",
    "\n",
    "Lastly, we obtained a negative parameter estimation for movies from (1969,1980] and (1990,2000] that had a best actress award wining. This was a surprise for me, as the movies from older or newer decades had a positive association with the imdb_ratings. More research can be done with this item to try to identify the reasons for this results. Regarding the best director award wining movies, we see that maybe they had a two decade gold era (1980,2000], where people really enjoyed and apreciated them, resulting in better scores for the imdb_rating, in the interval of 0.48 to 1.56 more points, compared to the baseline year_BIN, (2000,2014].\n",
    "\n"
   ]
  },
  {
   "cell_type": "markdown",
   "metadata": {},
   "source": [
    "Prediction\n",
    "declaring the model efficiency by the estimated training error could be a little unrealistic because the model tries to minimize the training set error. The need to evaluate the training set by the adjusted R2 was to delimit the number of parameters we would include in our model, preventing overfitting. As the original training dataset had to go throught a preprocess step, we did the same procedure with the testing dataset, with all the parameters learned with the training data, including the median imputation and the steps in the ‘moviesVarEngineer’ function. We only do not create a weight array because it was only used when estimating the wi parameters of the weighted least squares. A good way to evaluate regression models is the Root Mean Square Error - RMSE, which makes an estimate of the standard error made by the model in unseen data."
   ]
  },
  {
   "cell_type": "code",
   "execution_count": 35,
   "metadata": {},
   "outputs": [
    {
     "name": "stderr",
     "output_type": "stream",
     "text": [
      "Warning message in predict.lm(final.model, medianImputTestingPredictors):\n",
      "\"prediction from a rank-deficient fit may be misleading\""
     ]
    }
   ],
   "source": [
    "medianImputeTestingData <- predict(medianImput, testing)\n",
    "medianImputTestingPredictors <- medianImputeTestingData[,-c(responseCols,noInterestVars)]\n",
    "#medianImputTestingPredictors <- #cbind(medianImputTestingPredictors,medianImputeTestingData[,responseCols[1]])\n",
    "medianImputTestingPredictors$imdb_rating <- medianImputeTestingData[,responseCols[1]]\n",
    "\n",
    "medianImputTestingPredictors <- moviesVarEngineer(medianImputTestingPredictors,'testing')\n",
    "\n",
    "testingPredictions <- predict(final.model,medianImputTestingPredictors)\n"
   ]
  },
  {
   "cell_type": "code",
   "execution_count": 49,
   "metadata": {},
   "outputs": [
    {
     "name": "stderr",
     "output_type": "stream",
     "text": [
      "Warning message in mean.default((pred - obs)^2, na.rm = na.rm):\n",
      "\"argument is not numeric or logical: returning NA\""
     ]
    },
    {
     "data": {
      "text/html": [
       "&lt;NA&gt;"
      ],
      "text/latex": [
       "<NA>"
      ],
      "text/markdown": [
       "&lt;NA&gt;"
      ],
      "text/plain": [
       "[1] NA"
      ]
     },
     "metadata": {},
     "output_type": "display_data"
    }
   ],
   "source": [
    "RMSE(testingPredictions, medianImputTestingPredictors$imdb_rating, na.rm = TRUE)"
   ]
  },
  {
   "cell_type": "markdown",
   "metadata": {},
   "source": [
    "rmse VALUE OF 1.158\n",
    "Conclusions-The feature engineering process was the responsible in greatly improving the adjusted R2 and the model seemed to generalize well in new unseen data, as we obtained a relatively low RMSE.\n",
    "\n",
    "A probable solution for the NA’s presented in the model was to remove the specific interactions from the model. A way to accomplish this would be to use the dummyVars function in the caret package. This function splits the factor in n columns, one for each factor level, as a dummy variable, i.e. 1 if the variable has that factor level and 0 otherwise.\n",
    "\n",
    "Besides the NA’s, there was one more point to improve in the model. As I have created interaction terms with factor with many levels, some linear dependency was introduced with them. As we can see in the testing dataset prediction section, the model complained with a few warnings about predicting in a rank-deficient matrix (dataset). That probably is a linear dependency between some of my variables and that could make the parameter estimates unstable and, consequently, not accurate for new data. The NZV and Correlation analysis taken with the final model could not identify and eliminate the probable dependent columns, so further investigation would have to be done to improve the model stability.\n",
    "\n",
    "It is important to notice that I have tried to build a model using the standard lm function and the stepwise automated model selection algorithm, more specifically the AIC stepwise model selection. Only before the first first raw model, I managed to extract a better model with the stepwise selection, after that, the criterious feature selection, transformation and engineering processes always gave a better fit in the training set.\n",
    "\n",
    "The project show here only used the ‘imdb_rating’ variable as a response variable. Similar analysis could be made using the other two continuous variables (‘critics_score’ and ‘audience_score’), a logistic regression could be modelled and fit for the binary response variable ‘audience_rating’ and a multinomial regression model could be built for the multilevel response variable ‘critics_rating’.\n",
    "\n",
    "There is a lot of research that can be done and the one explained in this project shows that we can accurately predict how people will rate (like) the movies from its general characteristics."
   ]
  },
  {
   "cell_type": "code",
   "execution_count": null,
   "metadata": {},
   "outputs": [],
   "source": []
  }
 ],
 "metadata": {
  "kernelspec": {
   "display_name": "R",
   "language": "R",
   "name": "ir"
  },
  "language_info": {
   "codemirror_mode": "r",
   "file_extension": ".r",
   "mimetype": "text/x-r-source",
   "name": "R",
   "pygments_lexer": "r",
   "version": "3.6.1"
  }
 },
 "nbformat": 4,
 "nbformat_minor": 2
}
